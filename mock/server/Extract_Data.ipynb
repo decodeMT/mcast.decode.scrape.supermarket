{
 "cells": [
  {
   "cell_type": "code",
   "execution_count": 199,
   "metadata": {},
   "outputs": [],
   "source": [
    "from bs4 import BeautifulSoup\n",
    "import os\n",
    "import random\n",
    "import pandas as pd\n",
    "from selenium import webdriver\n",
    "from selenium.webdriver.chrome.options import Options\n",
    "from bs4 import BeautifulSoup\n",
    "from selenium.webdriver.support.ui import Select\n",
    "from selenium.webdriver.common.by import By\n",
    "from selenium.webdriver.support import expected_conditions as EC\n",
    "from selenium.webdriver.support.ui import WebDriverWait\n",
    "import time\n"
   ]
  },
  {
   "cell_type": "code",
   "execution_count": 200,
   "metadata": {},
   "outputs": [],
   "source": [
    "url = 'https://supermarket-scrape-website.vercel.app/server/'"
   ]
  },
  {
   "cell_type": "code",
   "execution_count": 201,
   "metadata": {},
   "outputs": [],
   "source": [
    "options = Options()\n",
    "options.headless = True\n",
    "options.add_argument(\"--window-size=1920,1200\")\n",
    "driver = webdriver.Chrome(options=options)\n",
    "driver.get(url)\n",
    "wait = WebDriverWait(driver, 10)  # Waits for up to 10 seconds"
   ]
  },
  {
   "cell_type": "code",
   "execution_count": 202,
   "metadata": {},
   "outputs": [],
   "source": [
    "categories = driver.find_elements(By.CLASS_NAME, 'category')"
   ]
  },
  {
   "cell_type": "code",
   "execution_count": 203,
   "metadata": {},
   "outputs": [],
   "source": [
    "folder_path = './csv_dumps/'\n",
    "if not os.path.exists(folder_path):\n",
    "    os.makedirs(folder_path)"
   ]
  },
  {
   "cell_type": "code",
   "execution_count": 204,
   "metadata": {},
   "outputs": [],
   "source": [
    "def extract_products (soup):\n",
    "    products_list = pd.DataFrame()\n",
    "    products = soup.find_all(class_='product')\n",
    "    for product in products:\n",
    "        name = product.find(class_='product_name').text\n",
    "        price = product.find(class_='product_price').text\n",
    "        products_list = pd.concat([products_list, pd.DataFrame([{'name' : name.replace('\\n', ' ').replace('\\r', ''), 'price' : price}])])\n",
    "    return products_list"
   ]
  },
  {
   "cell_type": "code",
   "execution_count": 205,
   "metadata": {},
   "outputs": [],
   "source": [
    "def get_select (driver):\n",
    "    select = Select(driver.find_element(By.CLASS_NAME, 'page_dropdown'))\n",
    "    return select"
   ]
  },
  {
   "cell_type": "code",
   "execution_count": 206,
   "metadata": {},
   "outputs": [
    {
     "name": "stdout",
     "output_type": "stream",
     "text": [
      "Extracting Category Confectionery\n",
      "Extracting Category Delicatessen\n",
      "Extracting Category Household\n"
     ]
    }
   ],
   "source": [
    "for category in categories:\n",
    "    try :\n",
    "        category.click()\n",
    "        all_products = pd.DataFrame()\n",
    "        select = get_select(driver)\n",
    "        print (f'Extracting Category {category.text}')\n",
    "        for option in select.options:\n",
    "            select.select_by_visible_text(option.text)\n",
    "            wait.until(EC.visibility_of_element_located((By.CLASS_NAME, 'page_dropdown')))\n",
    "            page_source = driver.page_source\n",
    "            soup = BeautifulSoup(page_source, 'html.parser')\n",
    "            all_products = pd.concat([all_products, extract_products(soup)])\n",
    "            time.sleep(random.uniform(1, 5))\n",
    "        all_products.to_csv(f'csv_dumps/{category.text}.csv', index=False)\n",
    "    except: \n",
    "        None   \n",
    "    "
   ]
  },
  {
   "cell_type": "code",
   "execution_count": 194,
   "metadata": {},
   "outputs": [],
   "source": [
    "if not os.path.exists('csv_final'):\n",
    "    os.makedirs('csv_final')\n",
    "\n",
    "final_file = pd.DataFrame()\n",
    "\n",
    "source_folder = './csv_dumps/'\n",
    "files = os.listdir(f'{source_folder}')\n"
   ]
  },
  {
   "cell_type": "code",
   "execution_count": 195,
   "metadata": {},
   "outputs": [],
   "source": []
  },
  {
   "cell_type": "code",
   "execution_count": 196,
   "metadata": {},
   "outputs": [],
   "source": [
    "for file in files:\n",
    "    data = pd.read_csv(f'{source_folder}/{file}')\n",
    "    data['category'] = file.replace('.csv', '')\n",
    "    final_file = pd.concat([final_file, data])"
   ]
  },
  {
   "cell_type": "code",
   "execution_count": 197,
   "metadata": {},
   "outputs": [],
   "source": [
    "final_file.to_csv('csv_final/final_products.csv', index=False)"
   ]
  }
 ],
 "metadata": {
  "kernelspec": {
   "display_name": "supermarket-env",
   "language": "python",
   "name": "python3"
  },
  "language_info": {
   "codemirror_mode": {
    "name": "ipython",
    "version": 3
   },
   "file_extension": ".py",
   "mimetype": "text/x-python",
   "name": "python",
   "nbconvert_exporter": "python",
   "pygments_lexer": "ipython3",
   "version": "3.10.9"
  }
 },
 "nbformat": 4,
 "nbformat_minor": 2
}
