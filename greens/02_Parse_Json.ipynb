{
 "cells": [
  {
   "cell_type": "code",
   "execution_count": 40,
   "metadata": {},
   "outputs": [],
   "source": [
    "import os\n",
    "import json\n",
    "import pandas as pd\n",
    "from bs4 import BeautifulSoup"
   ]
  },
  {
   "cell_type": "code",
   "execution_count": 41,
   "metadata": {},
   "outputs": [],
   "source": [
    "source_folder = './json_dumps/'\n",
    "categories = os.listdir(source_folder)"
   ]
  },
  {
   "cell_type": "code",
   "execution_count": 42,
   "metadata": {},
   "outputs": [
    {
     "name": "stdout",
     "output_type": "stream",
     "text": [
      "Combining butcher\n",
      "Combining chilledanddairy\n",
      "Combining confectionery\n",
      "Combining delicatessen\n",
      "Combining fish\n",
      "Combining fruitsandvegetables\n",
      "Combining household\n",
      "Combining organic\n",
      "Combining pets\n",
      "Combining winecellar\n"
     ]
    }
   ],
   "source": [
    "for category in categories:\n",
    "    print(f'Combining {category}')\n",
    "    all_product_details = []\n",
    "    files = os.listdir(f'{source_folder}{category}')\n",
    "    for file in files:\n",
    "        with open(f'{source_folder}{category}/{file}', 'r') as file:\n",
    "            data = json.load(file)\n",
    "            for item in data['ProductList']:\n",
    "                product_info = item['ProductDetails']\n",
    "                if 'Image' in item:\n",
    "                    soup = BeautifulSoup(item['Image'], 'html.parser')\n",
    "                    img_tag = soup.find('img')\n",
    "                    if img_tag and 'src' in img_tag.attrs:\n",
    "                        product_info['Image'] = f\"https://www.greens.com.mt{img_tag['src']}\"\n",
    "                    else:\n",
    "                        product_info['Image'] = None\n",
    "                else:\n",
    "                    product_info['Image'] = None\n",
    "                all_product_details.append(product_info)\n",
    "    df = pd.DataFrame(all_product_details)\n",
    "    df['scrape_tag'] = category\n",
    "    df.to_csv(f'./json_combined/{category}.csv', index=False)"
   ]
  }
 ],
 "metadata": {
  "kernelspec": {
   "display_name": "supermarket-env",
   "language": "python",
   "name": "python3"
  },
  "language_info": {
   "codemirror_mode": {
    "name": "ipython",
    "version": 3
   },
   "file_extension": ".py",
   "mimetype": "text/x-python",
   "name": "python",
   "nbconvert_exporter": "python",
   "pygments_lexer": "ipython3",
   "version": "3.10.9"
  }
 },
 "nbformat": 4,
 "nbformat_minor": 2
}
