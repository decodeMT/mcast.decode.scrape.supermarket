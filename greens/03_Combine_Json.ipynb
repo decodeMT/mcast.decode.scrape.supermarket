{
 "cells": [
  {
   "cell_type": "code",
   "execution_count": 45,
   "metadata": {},
   "outputs": [],
   "source": [
    "import os\n",
    "import json\n",
    "import pandas as pd"
   ]
  },
  {
   "cell_type": "code",
   "execution_count": 46,
   "metadata": {},
   "outputs": [],
   "source": [
    "source_folder = './json_combined/'\n",
    "files = os.listdir(source_folder)\n",
    "combined_df = pd.concat([pd.read_csv(os.path.join(source_folder, file)) for file in files])\n"
   ]
  },
  {
   "cell_type": "code",
   "execution_count": 47,
   "metadata": {},
   "outputs": [],
   "source": [
    "to_drop = ['PART_NOTES', 'XTRA_RECORD_DETAILS', 'XTRA_RECORD_SELECTION', 'XTRA_PAGE_NUMBER', 'XTRA_SORT_NUMBER','XTRA_TOTAL_PAGES', 'XTRA_TOTAL_RECORDS', 'RESPONSE_MESSAGE', 'MULTIPLIER', 'SYSTEM_STATUS', 'SYSTEM_DATE', 'SYSTEM_USERNAME', 'SYSTEM_IP', 'TOTAL_RECORDS', 'RESPONSE_CODE', 'Unnamed: 0']\n",
    "combined_df.drop(columns=to_drop, inplace=True)"
   ]
  },
  {
   "cell_type": "code",
   "execution_count": 48,
   "metadata": {},
   "outputs": [],
   "source": [
    "combined_df.to_csv('./json_final/greens_products.csv', index=False)"
   ]
  }
 ],
 "metadata": {
  "kernelspec": {
   "display_name": "supermarket-env",
   "language": "python",
   "name": "python3"
  },
  "language_info": {
   "codemirror_mode": {
    "name": "ipython",
    "version": 3
   },
   "file_extension": ".py",
   "mimetype": "text/x-python",
   "name": "python",
   "nbconvert_exporter": "python",
   "pygments_lexer": "ipython3",
   "version": "3.10.9"
  }
 },
 "nbformat": 4,
 "nbformat_minor": 2
}
