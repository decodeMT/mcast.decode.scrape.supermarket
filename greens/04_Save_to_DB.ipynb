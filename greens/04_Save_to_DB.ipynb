{
 "cells": [
  {
   "cell_type": "code",
   "execution_count": null,
   "metadata": {},
   "outputs": [],
   "source": [
    "import pandas as pd\n",
    "from sqlalchemy import create_engine"
   ]
  },
  {
   "cell_type": "code",
   "execution_count": null,
   "metadata": {},
   "outputs": [],
   "source": [
    "df = pd.read_csv('./json_final/greens_products.csv')\n",
    "\n",
    "username = 'postgres'\n",
    "password = '123'\n",
    "host = 'localhost'\n",
    "port = '5432'\n",
    "dbname = 'supermarket'\n",
    "\n",
    "engine = create_engine(f'postgresql://{username}:{password}@{host}:{port}/{dbname}')\n",
    "table_name = 'greens_raw'\n",
    "df.to_sql(table_name, engine, if_exists='replace', index=False)"
   ]
  }
 ],
 "metadata": {
  "language_info": {
   "name": "python"
  }
 },
 "nbformat": 4,
 "nbformat_minor": 2
}
